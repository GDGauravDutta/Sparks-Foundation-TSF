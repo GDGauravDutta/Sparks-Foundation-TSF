{
 "cells": [
  {
   "cell_type": "markdown",
   "metadata": {
    "papermill": {
     "duration": 0.035675,
     "end_time": "2020-11-16T11:18:38.884947",
     "exception": false,
     "start_time": "2020-11-16T11:18:38.849272",
     "status": "completed"
    },
    "tags": []
   },
   "source": [
    "# Prediction using Supervised ML"
   ]
  },
  {
   "cell_type": "markdown",
   "metadata": {
    "papermill": {
     "duration": 0.033383,
     "end_time": "2020-11-16T11:18:38.954438",
     "exception": false,
     "start_time": "2020-11-16T11:18:38.921055",
     "status": "completed"
    },
    "tags": []
   },
   "source": [
    "## Predict the percentage of marks of an student based on the number of study hours"
   ]
  },
  {
   "cell_type": "code",
   "execution_count": 1,
   "metadata": {
    "execution": {
     "iopub.execute_input": "2020-11-16T11:18:39.031146Z",
     "iopub.status.busy": "2020-11-16T11:18:39.030333Z",
     "iopub.status.idle": "2020-11-16T11:18:40.197777Z",
     "shell.execute_reply": "2020-11-16T11:18:40.196840Z"
    },
    "papermill": {
     "duration": 1.209304,
     "end_time": "2020-11-16T11:18:40.197920",
     "exception": false,
     "start_time": "2020-11-16T11:18:38.988616",
     "status": "completed"
    },
    "tags": []
   },
   "outputs": [],
   "source": [
    "import numpy as np\n",
    "import pandas as pd\n",
    "import seaborn as sns\n",
    "import matplotlib.pyplot as plt\n",
    "#Importing libraries\n",
    "import warnings\n",
    "warnings.filterwarnings('ignore')"
   ]
  },
  {
   "cell_type": "code",
   "execution_count": 2,
   "metadata": {
    "_cell_guid": "b1076dfc-b9ad-4769-8c92-a6c4dae69d19",
    "_uuid": "8f2839f25d086af736a60e9eeb907d3b93b6e0e5",
    "execution": {
     "iopub.execute_input": "2020-11-16T11:18:40.288906Z",
     "iopub.status.busy": "2020-11-16T11:18:40.287987Z",
     "iopub.status.idle": "2020-11-16T11:18:40.685679Z",
     "shell.execute_reply": "2020-11-16T11:18:40.685049Z"
    },
    "papermill": {
     "duration": 0.453518,
     "end_time": "2020-11-16T11:18:40.685814",
     "exception": false,
     "start_time": "2020-11-16T11:18:40.232296",
     "status": "completed"
    },
    "tags": []
   },
   "outputs": [
    {
     "data": {
      "text/html": [
       "<div>\n",
       "<style scoped>\n",
       "    .dataframe tbody tr th:only-of-type {\n",
       "        vertical-align: middle;\n",
       "    }\n",
       "\n",
       "    .dataframe tbody tr th {\n",
       "        vertical-align: top;\n",
       "    }\n",
       "\n",
       "    .dataframe thead th {\n",
       "        text-align: right;\n",
       "    }\n",
       "</style>\n",
       "<table border=\"1\" class=\"dataframe\">\n",
       "  <thead>\n",
       "    <tr style=\"text-align: right;\">\n",
       "      <th></th>\n",
       "      <th>Hours</th>\n",
       "      <th>Scores</th>\n",
       "    </tr>\n",
       "  </thead>\n",
       "  <tbody>\n",
       "    <tr>\n",
       "      <th>0</th>\n",
       "      <td>2.5</td>\n",
       "      <td>21</td>\n",
       "    </tr>\n",
       "    <tr>\n",
       "      <th>1</th>\n",
       "      <td>5.1</td>\n",
       "      <td>47</td>\n",
       "    </tr>\n",
       "    <tr>\n",
       "      <th>2</th>\n",
       "      <td>3.2</td>\n",
       "      <td>27</td>\n",
       "    </tr>\n",
       "    <tr>\n",
       "      <th>3</th>\n",
       "      <td>8.5</td>\n",
       "      <td>75</td>\n",
       "    </tr>\n",
       "    <tr>\n",
       "      <th>4</th>\n",
       "      <td>3.5</td>\n",
       "      <td>30</td>\n",
       "    </tr>\n",
       "  </tbody>\n",
       "</table>\n",
       "</div>"
      ],
      "text/plain": [
       "   Hours  Scores\n",
       "0    2.5      21\n",
       "1    5.1      47\n",
       "2    3.2      27\n",
       "3    8.5      75\n",
       "4    3.5      30"
      ]
     },
     "execution_count": 2,
     "metadata": {},
     "output_type": "execute_result"
    }
   ],
   "source": [
    "data=pd.read_csv('https://raw.githubusercontent.com/AdiPersonalWorks/Random/master/student_scores%20-%20student_scores.csv')\n",
    "data.head()"
   ]
  },
  {
   "cell_type": "code",
   "execution_count": 3,
   "metadata": {
    "execution": {
     "iopub.execute_input": "2020-11-16T11:18:40.771277Z",
     "iopub.status.busy": "2020-11-16T11:18:40.770017Z",
     "iopub.status.idle": "2020-11-16T11:18:40.774284Z",
     "shell.execute_reply": "2020-11-16T11:18:40.774831Z"
    },
    "papermill": {
     "duration": 0.054218,
     "end_time": "2020-11-16T11:18:40.775022",
     "exception": false,
     "start_time": "2020-11-16T11:18:40.720804",
     "status": "completed"
    },
    "tags": []
   },
   "outputs": [
    {
     "name": "stdout",
     "output_type": "stream",
     "text": [
      "<class 'pandas.core.frame.DataFrame'>\n",
      "RangeIndex: 25 entries, 0 to 24\n",
      "Data columns (total 2 columns):\n",
      " #   Column  Non-Null Count  Dtype  \n",
      "---  ------  --------------  -----  \n",
      " 0   Hours   25 non-null     float64\n",
      " 1   Scores  25 non-null     int64  \n",
      "dtypes: float64(1), int64(1)\n",
      "memory usage: 528.0 bytes\n"
     ]
    }
   ],
   "source": [
    "data.info()"
   ]
  },
  {
   "cell_type": "code",
   "execution_count": 4,
   "metadata": {
    "execution": {
     "iopub.execute_input": "2020-11-16T11:18:40.855486Z",
     "iopub.status.busy": "2020-11-16T11:18:40.854668Z",
     "iopub.status.idle": "2020-11-16T11:18:40.871500Z",
     "shell.execute_reply": "2020-11-16T11:18:40.870724Z"
    },
    "papermill": {
     "duration": 0.061858,
     "end_time": "2020-11-16T11:18:40.871629",
     "exception": false,
     "start_time": "2020-11-16T11:18:40.809771",
     "status": "completed"
    },
    "tags": []
   },
   "outputs": [
    {
     "data": {
      "text/html": [
       "<div>\n",
       "<style scoped>\n",
       "    .dataframe tbody tr th:only-of-type {\n",
       "        vertical-align: middle;\n",
       "    }\n",
       "\n",
       "    .dataframe tbody tr th {\n",
       "        vertical-align: top;\n",
       "    }\n",
       "\n",
       "    .dataframe thead th {\n",
       "        text-align: right;\n",
       "    }\n",
       "</style>\n",
       "<table border=\"1\" class=\"dataframe\">\n",
       "  <thead>\n",
       "    <tr style=\"text-align: right;\">\n",
       "      <th></th>\n",
       "      <th>Hours</th>\n",
       "      <th>Scores</th>\n",
       "    </tr>\n",
       "  </thead>\n",
       "  <tbody>\n",
       "    <tr>\n",
       "      <th>count</th>\n",
       "      <td>25.000000</td>\n",
       "      <td>25.000000</td>\n",
       "    </tr>\n",
       "    <tr>\n",
       "      <th>mean</th>\n",
       "      <td>5.012000</td>\n",
       "      <td>51.480000</td>\n",
       "    </tr>\n",
       "    <tr>\n",
       "      <th>std</th>\n",
       "      <td>2.525094</td>\n",
       "      <td>25.286887</td>\n",
       "    </tr>\n",
       "    <tr>\n",
       "      <th>min</th>\n",
       "      <td>1.100000</td>\n",
       "      <td>17.000000</td>\n",
       "    </tr>\n",
       "    <tr>\n",
       "      <th>25%</th>\n",
       "      <td>2.700000</td>\n",
       "      <td>30.000000</td>\n",
       "    </tr>\n",
       "    <tr>\n",
       "      <th>50%</th>\n",
       "      <td>4.800000</td>\n",
       "      <td>47.000000</td>\n",
       "    </tr>\n",
       "    <tr>\n",
       "      <th>75%</th>\n",
       "      <td>7.400000</td>\n",
       "      <td>75.000000</td>\n",
       "    </tr>\n",
       "    <tr>\n",
       "      <th>max</th>\n",
       "      <td>9.200000</td>\n",
       "      <td>95.000000</td>\n",
       "    </tr>\n",
       "  </tbody>\n",
       "</table>\n",
       "</div>"
      ],
      "text/plain": [
       "           Hours     Scores\n",
       "count  25.000000  25.000000\n",
       "mean    5.012000  51.480000\n",
       "std     2.525094  25.286887\n",
       "min     1.100000  17.000000\n",
       "25%     2.700000  30.000000\n",
       "50%     4.800000  47.000000\n",
       "75%     7.400000  75.000000\n",
       "max     9.200000  95.000000"
      ]
     },
     "execution_count": 4,
     "metadata": {},
     "output_type": "execute_result"
    }
   ],
   "source": [
    "data.describe()"
   ]
  },
  {
   "cell_type": "code",
   "execution_count": 5,
   "metadata": {
    "execution": {
     "iopub.execute_input": "2020-11-16T11:18:40.951435Z",
     "iopub.status.busy": "2020-11-16T11:18:40.950559Z",
     "iopub.status.idle": "2020-11-16T11:18:40.956160Z",
     "shell.execute_reply": "2020-11-16T11:18:40.956850Z"
    },
    "papermill": {
     "duration": 0.050077,
     "end_time": "2020-11-16T11:18:40.957079",
     "exception": false,
     "start_time": "2020-11-16T11:18:40.907002",
     "status": "completed"
    },
    "tags": []
   },
   "outputs": [
    {
     "data": {
      "text/plain": [
       "(25, 2)"
      ]
     },
     "execution_count": 5,
     "metadata": {},
     "output_type": "execute_result"
    }
   ],
   "source": [
    "data.shape"
   ]
  },
  {
   "cell_type": "markdown",
   "metadata": {
    "papermill": {
     "duration": 0.038365,
     "end_time": "2020-11-16T11:18:41.037937",
     "exception": false,
     "start_time": "2020-11-16T11:18:40.999572",
     "status": "completed"
    },
    "tags": []
   },
   "source": [
    "# Missing Value Check "
   ]
  },
  {
   "cell_type": "code",
   "execution_count": 6,
   "metadata": {
    "execution": {
     "iopub.execute_input": "2020-11-16T11:18:41.120426Z",
     "iopub.status.busy": "2020-11-16T11:18:41.119469Z",
     "iopub.status.idle": "2020-11-16T11:18:41.145038Z",
     "shell.execute_reply": "2020-11-16T11:18:41.144399Z"
    },
    "papermill": {
     "duration": 0.069547,
     "end_time": "2020-11-16T11:18:41.145201",
     "exception": false,
     "start_time": "2020-11-16T11:18:41.075654",
     "status": "completed"
    },
    "tags": []
   },
   "outputs": [
    {
     "data": {
      "text/plain": [
       "Hours     0.0\n",
       "Scores    0.0\n",
       "dtype: float64"
      ]
     },
     "execution_count": 6,
     "metadata": {},
     "output_type": "execute_result"
    }
   ],
   "source": [
    "round(100 * (data.isnull().sum()/len(data)),2)"
   ]
  },
  {
   "cell_type": "code",
   "execution_count": 7,
   "metadata": {
    "execution": {
     "iopub.execute_input": "2020-11-16T11:18:41.232611Z",
     "iopub.status.busy": "2020-11-16T11:18:41.231490Z",
     "iopub.status.idle": "2020-11-16T11:18:41.236862Z",
     "shell.execute_reply": "2020-11-16T11:18:41.236097Z"
    },
    "papermill": {
     "duration": 0.054446,
     "end_time": "2020-11-16T11:18:41.237002",
     "exception": false,
     "start_time": "2020-11-16T11:18:41.182556",
     "status": "completed"
    },
    "tags": []
   },
   "outputs": [
    {
     "data": {
      "text/plain": [
       "24    0.0\n",
       "11    0.0\n",
       "1     0.0\n",
       "2     0.0\n",
       "3     0.0\n",
       "4     0.0\n",
       "5     0.0\n",
       "6     0.0\n",
       "7     0.0\n",
       "8     0.0\n",
       "dtype: float64"
      ]
     },
     "execution_count": 7,
     "metadata": {},
     "output_type": "execute_result"
    }
   ],
   "source": [
    "round(100 * (data.isnull().sum(axis=1)/len(data)),2).sort_values(ascending=False)[:10]"
   ]
  },
  {
   "cell_type": "markdown",
   "metadata": {
    "papermill": {
     "duration": 0.037107,
     "end_time": "2020-11-16T11:18:41.312405",
     "exception": false,
     "start_time": "2020-11-16T11:18:41.275298",
     "status": "completed"
    },
    "tags": []
   },
   "source": [
    "No missing values in row & columns"
   ]
  },
  {
   "cell_type": "markdown",
   "metadata": {
    "papermill": {
     "duration": 0.047529,
     "end_time": "2020-11-16T11:18:41.403641",
     "exception": false,
     "start_time": "2020-11-16T11:18:41.356112",
     "status": "completed"
    },
    "tags": []
   },
   "source": [
    "# Duplicate Check"
   ]
  },
  {
   "cell_type": "code",
   "execution_count": 8,
   "metadata": {
    "execution": {
     "iopub.execute_input": "2020-11-16T11:18:41.504979Z",
     "iopub.status.busy": "2020-11-16T11:18:41.503806Z",
     "iopub.status.idle": "2020-11-16T11:18:41.508232Z",
     "shell.execute_reply": "2020-11-16T11:18:41.507547Z"
    },
    "papermill": {
     "duration": 0.061201,
     "end_time": "2020-11-16T11:18:41.508376",
     "exception": false,
     "start_time": "2020-11-16T11:18:41.447175",
     "status": "completed"
    },
    "tags": []
   },
   "outputs": [],
   "source": [
    "data_d=data.copy()\n",
    "data_d.drop_duplicates(subset=None, inplace=True)"
   ]
  },
  {
   "cell_type": "code",
   "execution_count": 9,
   "metadata": {
    "execution": {
     "iopub.execute_input": "2020-11-16T11:18:41.591095Z",
     "iopub.status.busy": "2020-11-16T11:18:41.590220Z",
     "iopub.status.idle": "2020-11-16T11:18:41.594845Z",
     "shell.execute_reply": "2020-11-16T11:18:41.594239Z"
    },
    "papermill": {
     "duration": 0.04722,
     "end_time": "2020-11-16T11:18:41.595002",
     "exception": false,
     "start_time": "2020-11-16T11:18:41.547782",
     "status": "completed"
    },
    "tags": []
   },
   "outputs": [
    {
     "data": {
      "text/plain": [
       "(25, 2)"
      ]
     },
     "execution_count": 9,
     "metadata": {},
     "output_type": "execute_result"
    }
   ],
   "source": [
    "data_d.shape"
   ]
  },
  {
   "cell_type": "code",
   "execution_count": 10,
   "metadata": {
    "execution": {
     "iopub.execute_input": "2020-11-16T11:18:41.678437Z",
     "iopub.status.busy": "2020-11-16T11:18:41.677566Z",
     "iopub.status.idle": "2020-11-16T11:18:41.680887Z",
     "shell.execute_reply": "2020-11-16T11:18:41.681637Z"
    },
    "papermill": {
     "duration": 0.048426,
     "end_time": "2020-11-16T11:18:41.681794",
     "exception": false,
     "start_time": "2020-11-16T11:18:41.633368",
     "status": "completed"
    },
    "tags": []
   },
   "outputs": [
    {
     "data": {
      "text/plain": [
       "(25, 2)"
      ]
     },
     "execution_count": 10,
     "metadata": {},
     "output_type": "execute_result"
    }
   ],
   "source": [
    "del data_d\n",
    "data.shape"
   ]
  },
  {
   "cell_type": "markdown",
   "metadata": {
    "papermill": {
     "duration": 0.038059,
     "end_time": "2020-11-16T11:18:41.758271",
     "exception": false,
     "start_time": "2020-11-16T11:18:41.720212",
     "status": "completed"
    },
    "tags": []
   },
   "source": [
    "# EXPLORATORY DATA ANALYSIS"
   ]
  },
  {
   "cell_type": "code",
   "execution_count": 11,
   "metadata": {
    "execution": {
     "iopub.execute_input": "2020-11-16T11:18:41.842663Z",
     "iopub.status.busy": "2020-11-16T11:18:41.841810Z",
     "iopub.status.idle": "2020-11-16T11:18:42.956441Z",
     "shell.execute_reply": "2020-11-16T11:18:42.955651Z"
    },
    "papermill": {
     "duration": 1.15899,
     "end_time": "2020-11-16T11:18:42.956578",
     "exception": false,
     "start_time": "2020-11-16T11:18:41.797588",
     "status": "completed"
    },
    "tags": []
   },
   "outputs": [
    {
     "data": {
      "image/png": "[encoded data removed]",
      "text/plain": [
       "<Figure size 360x360 with 6 Axes>"
      ]
     },
     "metadata": {
      "needs_background": "light"
     },
     "output_type": "display_data"
    }
   ],
   "source": [
    "sns.pairplot(data, diag_kind='kde')\n",
    "plt.show()"
   ]
  },
  {
   "cell_type": "code",
   "execution_count": 12,
   "metadata": {
    "execution": {
     "iopub.execute_input": "2020-11-16T11:18:43.061588Z",
     "iopub.status.busy": "2020-11-16T11:18:43.054808Z",
     "iopub.status.idle": "2020-11-16T11:18:43.277997Z",
     "shell.execute_reply": "2020-11-16T11:18:43.277362Z"
    },
    "papermill": {
     "duration": 0.278201,
     "end_time": "2020-11-16T11:18:43.278140",
     "exception": false,
     "start_time": "2020-11-16T11:18:42.999939",
     "status": "completed"
    },
    "tags": []
   },
   "outputs": [
    {
     "data": {
      "image/png": "[encoded data removed]",
      "text/plain": [
       "<Figure size 720x360 with 1 Axes>"
      ]
     },
     "metadata": {
      "needs_background": "light"
     },
     "output_type": "display_data"
    }
   ],
   "source": [
    "plt.figure(figsize=(10,5))\n",
    "sns.scatterplot(x='Hours',y='Scores',data=data)\n",
    "plt.grid()\n",
    "plt.show()"
   ]
  },
  {
   "cell_type": "code",
   "execution_count": 13,
   "metadata": {
    "execution": {
     "iopub.execute_input": "2020-11-16T11:18:43.372293Z",
     "iopub.status.busy": "2020-11-16T11:18:43.371476Z",
     "iopub.status.idle": "2020-11-16T11:18:43.599935Z",
     "shell.execute_reply": "2020-11-16T11:18:43.599099Z"
    },
    "papermill": {
     "duration": 0.280619,
     "end_time": "2020-11-16T11:18:43.600062",
     "exception": false,
     "start_time": "2020-11-16T11:18:43.319443",
     "status": "completed"
    },
    "tags": []
   },
   "outputs": [
    {
     "data": {
      "image/png": "[encoded data removed]",
      "text/plain": [
       "<Figure size 720x360 with 1 Axes>"
      ]
     },
     "metadata": {
      "needs_background": "light"
     },
     "output_type": "display_data"
    }
   ],
   "source": [
    "plt.figure(figsize=(10,5))\n",
    "sns.violinplot(x='Hours',data=data)\n",
    "plt.show()"
   ]
  },
  {
   "cell_type": "markdown",
   "metadata": {
    "papermill": {
     "duration": 0.045431,
     "end_time": "2020-11-16T11:18:43.690481",
     "exception": false,
     "start_time": "2020-11-16T11:18:43.645050",
     "status": "completed"
    },
    "tags": []
   },
   "source": [
    "No Outliers found"
   ]
  },
  {
   "cell_type": "code",
   "execution_count": 14,
   "metadata": {
    "execution": {
     "iopub.execute_input": "2020-11-16T11:18:43.791710Z",
     "iopub.status.busy": "2020-11-16T11:18:43.790876Z",
     "iopub.status.idle": "2020-11-16T11:18:43.918089Z",
     "shell.execute_reply": "2020-11-16T11:18:43.918727Z"
    },
    "papermill": {
     "duration": 0.185567,
     "end_time": "2020-11-16T11:18:43.918912",
     "exception": false,
     "start_time": "2020-11-16T11:18:43.733345",
     "status": "completed"
    },
    "tags": []
   },
   "outputs": [
    {
     "data": {
      "image/png": "[encoded data removed]",
      "text/plain": [
       "<Figure size 720x360 with 1 Axes>"
      ]
     },
     "metadata": {
      "needs_background": "light"
     },
     "output_type": "display_data"
    }
   ],
   "source": [
    "plt.figure(figsize=(10,5))\n",
    "sns.violinplot(x='Scores',data=data)\n",
    "plt.show()"
   ]
  },
  {
   "cell_type": "markdown",
   "metadata": {
    "papermill": {
     "duration": 0.049728,
     "end_time": "2020-11-16T11:18:44.016448",
     "exception": false,
     "start_time": "2020-11-16T11:18:43.966720",
     "status": "completed"
    },
    "tags": []
   },
   "source": [
    "No Outliers found"
   ]
  },
  {
   "cell_type": "code",
   "execution_count": 15,
   "metadata": {
    "_cell_guid": "79c7e3d0-c299-4dcb-8224-4455121ee9b0",
    "_uuid": "d629ff2d2480ee46fbb7e2d37f6b5fab8052498a",
    "execution": {
     "iopub.execute_input": "2020-11-16T11:18:44.134008Z",
     "iopub.status.busy": "2020-11-16T11:18:44.133090Z",
     "iopub.status.idle": "2020-11-16T11:18:44.478240Z",
     "shell.execute_reply": "2020-11-16T11:18:44.477543Z"
    },
    "papermill": {
     "duration": 0.413221,
     "end_time": "2020-11-16T11:18:44.478364",
     "exception": false,
     "start_time": "2020-11-16T11:18:44.065143",
     "status": "completed"
    },
    "tags": []
   },
   "outputs": [
    {
     "data": {
      "image/png": "[encoded data removed]",
      "text/plain": [
       "<Figure size 720x360 with 1 Axes>"
      ]
     },
     "metadata": {
      "needs_background": "light"
     },
     "output_type": "display_data"
    }
   ],
   "source": [
    "plt.figure(figsize=(10,5))\n",
    "sns.regplot(x='Hours',y='Scores',data=data)\n",
    "plt.grid()\n",
    "plt.show()"
   ]
  },
  {
   "cell_type": "markdown",
   "metadata": {
    "papermill": {
     "duration": 0.045708,
     "end_time": "2020-11-16T11:18:44.569762",
     "exception": false,
     "start_time": "2020-11-16T11:18:44.524054",
     "status": "completed"
    },
    "tags": []
   },
   "source": [
    "Hours are directly proportional to Scores "
   ]
  },
  {
   "cell_type": "code",
   "execution_count": 16,
   "metadata": {
    "execution": {
     "iopub.execute_input": "2020-11-16T11:18:44.667624Z",
     "iopub.status.busy": "2020-11-16T11:18:44.666518Z",
     "iopub.status.idle": "2020-11-16T11:18:44.671137Z",
     "shell.execute_reply": "2020-11-16T11:18:44.670416Z"
    },
    "papermill": {
     "duration": 0.055942,
     "end_time": "2020-11-16T11:18:44.671282",
     "exception": false,
     "start_time": "2020-11-16T11:18:44.615340",
     "status": "completed"
    },
    "tags": []
   },
   "outputs": [
    {
     "data": {
      "text/plain": [
       "0.1903382010052985"
      ]
     },
     "execution_count": 16,
     "metadata": {},
     "output_type": "execute_result"
    }
   ],
   "source": [
    "data.Hours.skew()"
   ]
  },
  {
   "cell_type": "markdown",
   "metadata": {
    "papermill": {
     "duration": 0.045382,
     "end_time": "2020-11-16T11:18:44.763125",
     "exception": false,
     "start_time": "2020-11-16T11:18:44.717743",
     "status": "completed"
    },
    "tags": []
   },
   "source": [
    "Data is not skewed. "
   ]
  },
  {
   "cell_type": "markdown",
   "metadata": {
    "papermill": {
     "duration": 0.046845,
     "end_time": "2020-11-16T11:18:44.856718",
     "exception": false,
     "start_time": "2020-11-16T11:18:44.809873",
     "status": "completed"
    },
    "tags": []
   },
   "source": [
    "# Test Train Split"
   ]
  },
  {
   "cell_type": "code",
   "execution_count": 17,
   "metadata": {
    "execution": {
     "iopub.execute_input": "2020-11-16T11:18:44.956440Z",
     "iopub.status.busy": "2020-11-16T11:18:44.955351Z",
     "iopub.status.idle": "2020-11-16T11:18:44.958511Z",
     "shell.execute_reply": "2020-11-16T11:18:44.959348Z"
    },
    "papermill": {
     "duration": 0.056616,
     "end_time": "2020-11-16T11:18:44.959532",
     "exception": false,
     "start_time": "2020-11-16T11:18:44.902916",
     "status": "completed"
    },
    "tags": []
   },
   "outputs": [],
   "source": [
    "# Creating X and Y sets \n",
    "X = data['Hours']\n",
    "y = data['Scores']"
   ]
  },
  {
   "cell_type": "code",
   "execution_count": 18,
   "metadata": {
    "execution": {
     "iopub.execute_input": "2020-11-16T11:18:45.062322Z",
     "iopub.status.busy": "2020-11-16T11:18:45.061545Z",
     "iopub.status.idle": "2020-11-16T11:18:45.188019Z",
     "shell.execute_reply": "2020-11-16T11:18:45.187240Z"
    },
    "papermill": {
     "duration": 0.18091,
     "end_time": "2020-11-16T11:18:45.188149",
     "exception": false,
     "start_time": "2020-11-16T11:18:45.007239",
     "status": "completed"
    },
    "tags": []
   },
   "outputs": [],
   "source": [
    "from sklearn.model_selection import train_test_split\n",
    "\n",
    "# We should specify 'random_state' so that the train and test data set always have the same rows, respectively\n",
    "\n",
    "np.random.seed(0)\n",
    "X_train, X_test, y_train, y_test = train_test_split(X,y, train_size = 0.70, random_state = 5)\n"
   ]
  },
  {
   "cell_type": "code",
   "execution_count": 19,
   "metadata": {
    "execution": {
     "iopub.execute_input": "2020-11-16T11:18:45.290339Z",
     "iopub.status.busy": "2020-11-16T11:18:45.289301Z",
     "iopub.status.idle": "2020-11-16T11:18:45.293868Z",
     "shell.execute_reply": "2020-11-16T11:18:45.293048Z"
    },
    "papermill": {
     "duration": 0.058374,
     "end_time": "2020-11-16T11:18:45.293999",
     "exception": false,
     "start_time": "2020-11-16T11:18:45.235625",
     "status": "completed"
    },
    "tags": []
   },
   "outputs": [
    {
     "name": "stdout",
     "output_type": "stream",
     "text": [
      "X_train:  (17,)\n",
      "X_test:  (8,)\n",
      "y_train:  (17,)\n",
      "y_test:  (8,)\n"
     ]
    }
   ],
   "source": [
    "# Checking the shapes for all the sets\n",
    "print('X_train: ', X_train.shape)\n",
    "print('X_test: ', X_test.shape)\n",
    "print('y_train: ', y_train.shape)\n",
    "print('y_test: ', y_test.shape)"
   ]
  },
  {
   "cell_type": "markdown",
   "metadata": {
    "papermill": {
     "duration": 0.046814,
     "end_time": "2020-11-16T11:18:45.388423",
     "exception": false,
     "start_time": "2020-11-16T11:18:45.341609",
     "status": "completed"
    },
    "tags": []
   },
   "source": [
    "# Training the model"
   ]
  },
  {
   "cell_type": "code",
   "execution_count": 20,
   "metadata": {
    "execution": {
     "iopub.execute_input": "2020-11-16T11:18:45.491673Z",
     "iopub.status.busy": "2020-11-16T11:18:45.489937Z",
     "iopub.status.idle": "2020-11-16T11:18:45.493761Z",
     "shell.execute_reply": "2020-11-16T11:18:45.494329Z"
    },
    "papermill": {
     "duration": 0.059273,
     "end_time": "2020-11-16T11:18:45.494513",
     "exception": false,
     "start_time": "2020-11-16T11:18:45.435240",
     "status": "completed"
    },
    "tags": []
   },
   "outputs": [],
   "source": [
    "# Reshaping X train set\n",
    "X_train = X_train.values.reshape(-1,1)\n",
    "X_test = X_test.values.reshape(-1,1)"
   ]
  },
  {
   "cell_type": "code",
   "execution_count": 21,
   "metadata": {
    "execution": {
     "iopub.execute_input": "2020-11-16T11:18:45.599668Z",
     "iopub.status.busy": "2020-11-16T11:18:45.598807Z",
     "iopub.status.idle": "2020-11-16T11:18:45.694620Z",
     "shell.execute_reply": "2020-11-16T11:18:45.693840Z"
    },
    "papermill": {
     "duration": 0.148716,
     "end_time": "2020-11-16T11:18:45.694750",
     "exception": false,
     "start_time": "2020-11-16T11:18:45.546034",
     "status": "completed"
    },
    "tags": []
   },
   "outputs": [
    {
     "data": {
      "text/plain": [
       "LinearRegression()"
      ]
     },
     "execution_count": 21,
     "metadata": {},
     "output_type": "execute_result"
    }
   ],
   "source": [
    "from sklearn.linear_model import LinearRegression\n",
    "lr= LinearRegression()\n",
    "lr.fit(X_train,y_train)"
   ]
  },
  {
   "cell_type": "code",
   "execution_count": 22,
   "metadata": {
    "execution": {
     "iopub.execute_input": "2020-11-16T11:18:45.799709Z",
     "iopub.status.busy": "2020-11-16T11:18:45.798780Z",
     "iopub.status.idle": "2020-11-16T11:18:45.802482Z",
     "shell.execute_reply": "2020-11-16T11:18:45.803169Z"
    },
    "papermill": {
     "duration": 0.059311,
     "end_time": "2020-11-16T11:18:45.803339",
     "exception": false,
     "start_time": "2020-11-16T11:18:45.744028",
     "status": "completed"
    },
    "tags": []
   },
   "outputs": [
    {
     "name": "stdout",
     "output_type": "stream",
     "text": [
      "Intercept of line:  3.52\n",
      "Coefficent of Hours:  [9.45348802]\n"
     ]
    }
   ],
   "source": [
    "# Displaying model parameters\n",
    "print('Intercept of line: ',round(lr.intercept_,2))\n",
    "print('Coefficent of Hours: ',lr.coef_)"
   ]
  },
  {
   "cell_type": "code",
   "execution_count": 23,
   "metadata": {
    "execution": {
     "iopub.execute_input": "2020-11-16T11:18:45.912938Z",
     "iopub.status.busy": "2020-11-16T11:18:45.912146Z",
     "iopub.status.idle": "2020-11-16T11:18:45.915535Z",
     "shell.execute_reply": "2020-11-16T11:18:45.916119Z"
    },
    "papermill": {
     "duration": 0.062747,
     "end_time": "2020-11-16T11:18:45.916292",
     "exception": false,
     "start_time": "2020-11-16T11:18:45.853545",
     "status": "completed"
    },
    "tags": []
   },
   "outputs": [
    {
     "name": "stdout",
     "output_type": "stream",
     "text": [
      "Train R2_score:  96.0\n"
     ]
    }
   ],
   "source": [
    "from sklearn.metrics import r2_score\n",
    "y_train_pred = lr.predict(X_train)\n",
    "r2score_train = r2_score(y_train,y_train_pred)*100\n",
    "print('Train R2_score: ', round(r2score_train,2))"
   ]
  },
  {
   "cell_type": "code",
   "execution_count": 24,
   "metadata": {
    "execution": {
     "iopub.execute_input": "2020-11-16T11:18:46.029900Z",
     "iopub.status.busy": "2020-11-16T11:18:46.028970Z",
     "iopub.status.idle": "2020-11-16T11:18:46.032949Z",
     "shell.execute_reply": "2020-11-16T11:18:46.032237Z"
    },
    "papermill": {
     "duration": 0.063716,
     "end_time": "2020-11-16T11:18:46.033080",
     "exception": false,
     "start_time": "2020-11-16T11:18:45.969364",
     "status": "completed"
    },
    "tags": []
   },
   "outputs": [
    {
     "name": "stdout",
     "output_type": "stream",
     "text": [
      "Train R2_score:  92.49\n"
     ]
    }
   ],
   "source": [
    "y_test_pred = lr.predict(X_test)\n",
    "r2score_test = r2_score(y_test,y_test_pred)*100\n",
    "print('Train R2_score: ', round(r2score_test,2))"
   ]
  },
  {
   "cell_type": "markdown",
   "metadata": {
    "papermill": {
     "duration": 0.05198,
     "end_time": "2020-11-16T11:18:46.136121",
     "exception": false,
     "start_time": "2020-11-16T11:18:46.084141",
     "status": "completed"
    },
    "tags": []
   },
   "source": [
    "# Validating Linear Regression assumptions"
   ]
  },
  {
   "cell_type": "markdown",
   "metadata": {
    "papermill": {
     "duration": 0.05074,
     "end_time": "2020-11-16T11:18:46.236524",
     "exception": false,
     "start_time": "2020-11-16T11:18:46.185784",
     "status": "completed"
    },
    "tags": []
   },
   "source": [
    "Error terms should be normally distributed with mean 0"
   ]
  },
  {
   "cell_type": "code",
   "execution_count": 25,
   "metadata": {
    "execution": {
     "iopub.execute_input": "2020-11-16T11:18:46.342410Z",
     "iopub.status.busy": "2020-11-16T11:18:46.341645Z",
     "iopub.status.idle": "2020-11-16T11:18:46.345251Z",
     "shell.execute_reply": "2020-11-16T11:18:46.344513Z"
    },
    "papermill": {
     "duration": 0.05737,
     "end_time": "2020-11-16T11:18:46.345379",
     "exception": false,
     "start_time": "2020-11-16T11:18:46.288009",
     "status": "completed"
    },
    "tags": []
   },
   "outputs": [],
   "source": [
    "#Error terms are normally distributed\n",
    "res = y_train - y_train_pred"
   ]
  },
  {
   "cell_type": "code",
   "execution_count": 26,
   "metadata": {
    "execution": {
     "iopub.execute_input": "2020-11-16T11:18:46.458495Z",
     "iopub.status.busy": "2020-11-16T11:18:46.457326Z",
     "iopub.status.idle": "2020-11-16T11:18:46.653541Z",
     "shell.execute_reply": "2020-11-16T11:18:46.652773Z"
    },
    "papermill": {
     "duration": 0.25895,
     "end_time": "2020-11-16T11:18:46.653668",
     "exception": false,
     "start_time": "2020-11-16T11:18:46.394718",
     "status": "completed"
    },
    "tags": []
   },
   "outputs": [
    {
     "data": {
      "image/png": "[encoded data removed]",
      "text/plain": [
       "<Figure size 720x360 with 1 Axes>"
      ]
     },
     "metadata": {
      "needs_background": "light"
     },
     "output_type": "display_data"
    }
   ],
   "source": [
    "plt.figure(figsize=(10,5))\n",
    "sns.distplot(res)\n",
    "plt.title('Error terms',fontweight = 'bold', fontsize = 18)\n",
    "plt.show()"
   ]
  },
  {
   "cell_type": "markdown",
   "metadata": {
    "papermill": {
     "duration": 0.049775,
     "end_time": "2020-11-16T11:18:46.755946",
     "exception": false,
     "start_time": "2020-11-16T11:18:46.706171",
     "status": "completed"
    },
    "tags": []
   },
   "source": [
    " It can be seen that the error terms are normally distributed with mean 0. Hence validated one of the assumptions of Linear Regression"
   ]
  },
  {
   "cell_type": "markdown",
   "metadata": {
    "papermill": {
     "duration": 0.050979,
     "end_time": "2020-11-16T11:18:46.857910",
     "exception": false,
     "start_time": "2020-11-16T11:18:46.806931",
     "status": "completed"
    },
    "tags": []
   },
   "source": [
    "## Error terms should be randomly distributed"
   ]
  },
  {
   "cell_type": "code",
   "execution_count": 27,
   "metadata": {
    "execution": {
     "iopub.execute_input": "2020-11-16T11:18:46.975567Z",
     "iopub.status.busy": "2020-11-16T11:18:46.974457Z",
     "iopub.status.idle": "2020-11-16T11:18:47.163711Z",
     "shell.execute_reply": "2020-11-16T11:18:47.164305Z"
    },
    "papermill": {
     "duration": 0.253649,
     "end_time": "2020-11-16T11:18:47.164478",
     "exception": false,
     "start_time": "2020-11-16T11:18:46.910829",
     "status": "completed"
    },
    "tags": []
   },
   "outputs": [
    {
     "data": {
      "image/png": "[encoded data removed]",
      "text/plain": [
       "<Figure size 720x360 with 1 Axes>"
      ]
     },
     "metadata": {
      "needs_background": "light"
     },
     "output_type": "display_data"
    }
   ],
   "source": [
    "# Error terms should be randomly distributed\n",
    "plt.figure(figsize=(10,5))\n",
    "plt.scatter(X_train, res)\n",
    "plt.title('Randomly distributed error terms',fontweight = 'bold', fontsize = 18)\n",
    "plt.show()"
   ]
  },
  {
   "cell_type": "markdown",
   "metadata": {
    "papermill": {
     "duration": 0.051006,
     "end_time": "2020-11-16T11:18:47.267135",
     "exception": false,
     "start_time": "2020-11-16T11:18:47.216129",
     "status": "completed"
    },
    "tags": []
   },
   "source": [
    "Error terms/ residuals dont tend to follow any particular pattern as such. They seem to be distributed randomly. With this, validated another assumption for Linear Regression"
   ]
  },
  {
   "cell_type": "code",
   "execution_count": 28,
   "metadata": {
    "execution": {
     "iopub.execute_input": "2020-11-16T11:18:47.385177Z",
     "iopub.status.busy": "2020-11-16T11:18:47.384076Z",
     "iopub.status.idle": "2020-11-16T11:18:47.594067Z",
     "shell.execute_reply": "2020-11-16T11:18:47.593327Z"
    },
    "papermill": {
     "duration": 0.275381,
     "end_time": "2020-11-16T11:18:47.594217",
     "exception": false,
     "start_time": "2020-11-16T11:18:47.318836",
     "status": "completed"
    },
    "tags": []
   },
   "outputs": [
    {
     "data": {
      "image/png": "[encoded data removed]",
      "text/plain": [
       "<Figure size 720x360 with 1 Axes>"
      ]
     },
     "metadata": {
      "needs_background": "light"
     },
     "output_type": "display_data"
    }
   ],
   "source": [
    "#Visualizing the fit on the train set\n",
    "plt.figure(figsize=(10,5))\n",
    "plt.scatter(X_train, y_train)\n",
    "plt.plot(X_train, y_train_pred, 'r')\n",
    "plt.grid()\n",
    "plt.xlabel('Hours studied', fontweight = 'bold')\n",
    "plt.ylabel('Scores obtained', fontweight = 'bold')\n",
    "plt.title('Best fit line for train set', fontweight = 'bold', fontsize = 16)\n",
    "plt.show()"
   ]
  },
  {
   "cell_type": "code",
   "execution_count": 29,
   "metadata": {
    "execution": {
     "iopub.execute_input": "2020-11-16T11:18:47.714422Z",
     "iopub.status.busy": "2020-11-16T11:18:47.713406Z",
     "iopub.status.idle": "2020-11-16T11:18:47.718394Z",
     "shell.execute_reply": "2020-11-16T11:18:47.717665Z"
    },
    "papermill": {
     "duration": 0.070447,
     "end_time": "2020-11-16T11:18:47.718520",
     "exception": false,
     "start_time": "2020-11-16T11:18:47.648073",
     "status": "completed"
    },
    "tags": []
   },
   "outputs": [
    {
     "data": {
      "text/html": [
       "<div>\n",
       "<style scoped>\n",
       "    .dataframe tbody tr th:only-of-type {\n",
       "        vertical-align: middle;\n",
       "    }\n",
       "\n",
       "    .dataframe tbody tr th {\n",
       "        vertical-align: top;\n",
       "    }\n",
       "\n",
       "    .dataframe thead th {\n",
       "        text-align: right;\n",
       "    }\n",
       "</style>\n",
       "<table border=\"1\" class=\"dataframe\">\n",
       "  <thead>\n",
       "    <tr style=\"text-align: right;\">\n",
       "      <th></th>\n",
       "      <th>Actual</th>\n",
       "      <th>Predicted</th>\n",
       "    </tr>\n",
       "  </thead>\n",
       "  <tbody>\n",
       "    <tr>\n",
       "      <th>19</th>\n",
       "      <td>69</td>\n",
       "      <td>73.471066</td>\n",
       "    </tr>\n",
       "    <tr>\n",
       "      <th>18</th>\n",
       "      <td>67</td>\n",
       "      <td>61.181532</td>\n",
       "    </tr>\n",
       "    <tr>\n",
       "      <th>2</th>\n",
       "      <td>27</td>\n",
       "      <td>33.766416</td>\n",
       "    </tr>\n",
       "    <tr>\n",
       "      <th>10</th>\n",
       "      <td>85</td>\n",
       "      <td>76.307113</td>\n",
       "    </tr>\n",
       "    <tr>\n",
       "      <th>21</th>\n",
       "      <td>54</td>\n",
       "      <td>48.891997</td>\n",
       "    </tr>\n",
       "  </tbody>\n",
       "</table>\n",
       "</div>"
      ],
      "text/plain": [
       "    Actual  Predicted\n",
       "19      69  73.471066\n",
       "18      67  61.181532\n",
       "2       27  33.766416\n",
       "10      85  76.307113\n",
       "21      54  48.891997"
      ]
     },
     "execution_count": 29,
     "metadata": {},
     "output_type": "execute_result"
    }
   ],
   "source": [
    "predicted_df = pd.DataFrame({'Actual': y_test, 'Predicted' : y_test_pred})\n",
    "predicted_df.head()"
   ]
  },
  {
   "cell_type": "markdown",
   "metadata": {
    "papermill": {
     "duration": 0.05442,
     "end_time": "2020-11-16T11:18:47.826944",
     "exception": false,
     "start_time": "2020-11-16T11:18:47.772524",
     "status": "completed"
    },
    "tags": []
   },
   "source": [
    "# Evaluation "
   ]
  },
  {
   "cell_type": "code",
   "execution_count": 30,
   "metadata": {
    "execution": {
     "iopub.execute_input": "2020-11-16T11:18:47.963546Z",
     "iopub.status.busy": "2020-11-16T11:18:47.962728Z",
     "iopub.status.idle": "2020-11-16T11:18:47.966516Z",
     "shell.execute_reply": "2020-11-16T11:18:47.967626Z"
    },
    "papermill": {
     "duration": 0.085155,
     "end_time": "2020-11-16T11:18:47.967847",
     "exception": false,
     "start_time": "2020-11-16T11:18:47.882692",
     "status": "completed"
    },
    "tags": []
   },
   "outputs": [
    {
     "name": "stdout",
     "output_type": "stream",
     "text": [
      "Score for Linear Regression                   : 0.9248556597026296\n",
      "Explained Variance Score for Linear Regression: 0.9313169242410377\n",
      "Max Error for Ridge Rigression                : 8.747538663803056\n",
      "Mean Absolute Error for Linear Regression     : 5.897931072550458\n",
      "Mean Square Error for Linear Regression       : 38.71694720790297\n",
      "Mean Squared Log Error for Linear Regression  : 0.014376061666189982\n",
      "Median Absolute Error for Linear Regression   : 5.46323551550066\n",
      "R2 Score for Linear Regression                : 0.9248556597026296\n",
      "Mean Poisson Deviance for Linear Regression   : 0.694871288031722\n",
      "Mean Gamma Deviance for Linear Regression     : 0.014860078104863617\n",
      "Mean Tweedie Deviance for Linear Regression   : 38.71694720790297\n"
     ]
    }
   ],
   "source": [
    "import sklearn.metrics\n",
    "score_lr=lr.score(X_test,y_test)\n",
    "evs_lr=sklearn.metrics.explained_variance_score(y_test,lr.predict(X_test))\n",
    "me_lr=sklearn.metrics.max_error(y_test,lr.predict(X_test))\n",
    "mae_lr=sklearn.metrics.mean_absolute_error(y_test,lr.predict(X_test))\n",
    "mse_lr=sklearn.metrics.mean_squared_error(y_test,lr.predict(X_test))\n",
    "msle_lr=sklearn.metrics.mean_squared_log_error(y_test,lr.predict(X_test))\n",
    "Mae_lr=sklearn.metrics.median_absolute_error(y_test,lr.predict(X_test))\n",
    "r2_lr=sklearn.metrics.r2_score(y_test,lr.predict(X_test))\n",
    "mpd_lr=sklearn.metrics.mean_poisson_deviance(y_test,lr.predict(X_test))\n",
    "mgd_lr=sklearn.metrics.mean_gamma_deviance(y_test,lr.predict(X_test))\n",
    "mtd_lr=sklearn.metrics.mean_tweedie_deviance(y_test,lr.predict(X_test))\n",
    "print('Score for Linear Regression                   :',score_lr)\n",
    "print('Explained Variance Score for Linear Regression:',evs_lr)\n",
    "print('Max Error for Ridge Rigression                :',me_lr)\n",
    "print('Mean Absolute Error for Linear Regression     :',mae_lr)\n",
    "print('Mean Square Error for Linear Regression       :',mse_lr)\n",
    "print('Mean Squared Log Error for Linear Regression  :',msle_lr)\n",
    "print('Median Absolute Error for Linear Regression   :',Mae_lr)\n",
    "print('R2 Score for Linear Regression                :',r2_lr)\n",
    "print('Mean Poisson Deviance for Linear Regression   :',mpd_lr)\n",
    "print('Mean Gamma Deviance for Linear Regression     :',mgd_lr)\n",
    "print('Mean Tweedie Deviance for Linear Regression   :',mtd_lr)"
   ]
  },
  {
   "cell_type": "code",
   "execution_count": 31,
   "metadata": {
    "execution": {
     "iopub.execute_input": "2020-11-16T11:18:48.090111Z",
     "iopub.status.busy": "2020-11-16T11:18:48.089306Z",
     "iopub.status.idle": "2020-11-16T11:18:48.093415Z",
     "shell.execute_reply": "2020-11-16T11:18:48.092638Z"
    },
    "papermill": {
     "duration": 0.067604,
     "end_time": "2020-11-16T11:18:48.093560",
     "exception": false,
     "start_time": "2020-11-16T11:18:48.025956",
     "status": "completed"
    },
    "tags": []
   },
   "outputs": [
    {
     "name": "stdout",
     "output_type": "stream",
     "text": [
      "           Number of hours = 9.25\n",
      "Predicted percentage score = 90.96\n"
     ]
    }
   ],
   "source": [
    "#Objective is to find out scores for studied hour 9.25\n",
    "\n",
    "hours = 9.25\n",
    "new_pred = lr.predict([[hours]])\n",
    "print(\"           Number of hours = {}\".format(hours))\n",
    "print(\"Predicted percentage score = {}\".format(round(new_pred[0],2)))"
   ]
  }
 ],
 "metadata": {
  "kernelspec": {
   "display_name": "Python 3",
   "language": "python",
   "name": "python3"
  },
  "language_info": {
   "codemirror_mode": {
    "name": "ipython",
    "version": 3
   },
   "file_extension": ".py",
   "mimetype": "text/x-python",
   "name": "python",
   "nbconvert_exporter": "python",
   "pygments_lexer": "ipython3",
   "version": "3.7.6"
  },
  "papermill": {
   "duration": 14.646298,
   "end_time": "2020-11-16T11:18:48.258614",
   "environment_variables": {},
   "exception": null,
   "input_path": "__notebook__.ipynb",
   "output_path": "__notebook__.ipynb",
   "parameters": {},
   "start_time": "2020-11-16T11:18:33.612316",
   "version": "2.1.0"
  }
 },
 "nbformat": 4,
 "nbformat_minor": 4
}
